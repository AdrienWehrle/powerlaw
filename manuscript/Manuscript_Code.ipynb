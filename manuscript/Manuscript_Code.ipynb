{
 "metadata": {
  "name": "Manuscript_Code"
 },
 "nbformat": 3,
 "nbformat_minor": 0,
 "worksheets": [
  {
   "cells": [
    {
     "cell_type": "code",
     "collapsed": false,
     "input": [
      "from os import listdir\n",
      "files = listdir('.')\n",
      "if 'blackouts.txt' not in files:\n",
      "    import urllib\n",
      "    urllib.urlretrieve('http://tuvalu.santafe.edu/~aaronc/powerlaws/data/blackouts.txt', 'blackouts.txt')\n",
      "if 'words.txt' not in files:\n",
      "    import urllib\n",
      "    urllib.urlretrieve('http://tuvalu.santafe.edu/~aaronc/powerlaws/data/words.txt', 'words.txt')"
     ],
     "language": "python",
     "metadata": {},
     "outputs": [],
     "prompt_number": 1
    },
    {
     "cell_type": "code",
     "collapsed": false,
     "input": [
      "from numpy import genfromtxt\n",
      "blackouts = genfromtxt('blackouts.txt')/10**3\n",
      "words = genfromtxt('words.txt')"
     ],
     "language": "python",
     "metadata": {},
     "outputs": [],
     "prompt_number": 2
    },
    {
     "cell_type": "code",
     "collapsed": false,
     "input": [
      "data = blackouts\n",
      "####\n",
      "import powerlaw\n",
      "results = powerlaw.Fit(data, discrete=True)\n",
      "results.xmin\n",
      "results.fixed_xmin\n",
      "results.alpha\n",
      "results.sigma\n",
      "results.D\n",
      "results = powerlaw.Fit(data, xmin=60.0)\n",
      "results.xmin\n",
      "results.fixed_xmin\n",
      "results.alpha\n",
      "results.sigma\n",
      "results.D"
     ],
     "language": "python",
     "metadata": {},
     "outputs": [
      {
       "output_type": "stream",
       "stream": "stdout",
       "text": [
        "Calculating best minimal value for power law fit\n"
       ]
      },
      {
       "output_type": "pyout",
       "prompt_number": 3,
       "text": [
        "0.1099057096556379"
       ]
      }
     ],
     "prompt_number": 3
    },
    {
     "cell_type": "code",
     "collapsed": false,
     "input": [
      "data = blackouts\n",
      "####\n",
      "fit = powerlaw.Fit(data, xmin=(250.0, 300.0))\n",
      "fit.fixed_xmin\n",
      "fit.given_xmin\n",
      "fit.xmin"
     ],
     "language": "python",
     "metadata": {},
     "outputs": [
      {
       "output_type": "stream",
       "stream": "stdout",
       "text": [
        "Calculating best minimal value for power law fit\n"
       ]
      },
      {
       "output_type": "pyout",
       "prompt_number": 4,
       "text": [
        "272.0"
       ]
      }
     ],
     "prompt_number": 4
    },
    {
     "cell_type": "code",
     "collapsed": false,
     "input": [
      "data = blackouts\n",
      "fit = powerlaw.Fit(data)\n",
      "####\n",
      "fit.power_law\n",
      "fit.power_law.alpha\n",
      "fit.power_law.parameter1\n",
      "fit.power_law.parameter1_name\n",
      "fit.lognormal.mu\n",
      "fit.lognormal.parameter1_name\n",
      "fit.lognormal.parameter2_name\n",
      "fit.lognormal.parameter3_name == None"
     ],
     "language": "python",
     "metadata": {},
     "outputs": [
      {
       "output_type": "stream",
       "stream": "stdout",
       "text": [
        "Calculating best minimal value for power law fit\n"
       ]
      },
      {
       "output_type": "pyout",
       "prompt_number": 5,
       "text": [
        "True"
       ]
      }
     ],
     "prompt_number": 5
    },
    {
     "cell_type": "code",
     "collapsed": false,
     "input": [
      "data = blackouts\n",
      "####\n",
      "fit = powerlaw.Fit(data)\n",
      "R, p = fit.distribution_compare('power_law', 'exponential', normalized_ratio=True)\n",
      "print R, p"
     ],
     "language": "python",
     "metadata": {},
     "outputs": [
      {
       "output_type": "stream",
       "stream": "stdout",
       "text": [
        "Calculating best minimal value for power law fit\n",
        "1.43148048496"
       ]
      },
      {
       "output_type": "stream",
       "stream": "stdout",
       "text": [
        " 0.152292556044\n"
       ]
      }
     ],
     "prompt_number": 6
    },
    {
     "cell_type": "code",
     "collapsed": false,
     "input": [
      "data = blackouts\n",
      "fit = powerlaw.Fit(data)\n",
      "####\n",
      "fit.loglikelihood_ratio('power_law', 'truncated_power_law')\n",
      "fit.loglikelihood_ratio('exponential', 'stretched_exponential')"
     ],
     "language": "python",
     "metadata": {},
     "outputs": [
      {
       "output_type": "stream",
       "stream": "stdout",
       "text": [
        "Calculating best minimal value for power law fit\n",
        "Assuming nested distributions"
       ]
      },
      {
       "output_type": "stream",
       "stream": "stdout",
       "text": [
        "\n",
        "Assuming nested distributions"
       ]
      },
      {
       "output_type": "stream",
       "stream": "stdout",
       "text": [
        "\n"
       ]
      },
      {
       "output_type": "stream",
       "stream": "stderr",
       "text": [
        "/home/alstottjd/Code/powerlaw/powerlaw.py:703: RuntimeWarning: invalid value encountered in power\n",
        "  CDF = 1 - exp((-self.Lambda*x)**self.beta)\n",
        "/home/alstottjd/Code/powerlaw/powerlaw.py:703: RuntimeWarning: invalid value encountered in double_scalars\n",
        "  CDF = 1 - exp((-self.Lambda*x)**self.beta)\n"
       ]
      },
      {
       "output_type": "pyout",
       "prompt_number": 7,
       "text": [
        "(-13.024005037666845, 3.3303191937505972e-07)"
       ]
      }
     ],
     "prompt_number": 7
    },
    {
     "cell_type": "code",
     "collapsed": false,
     "input": [
      "data = blackouts\n",
      "fit = powerlaw.Fit(data)\n",
      "####\n",
      "fit = powerlaw.Fit(data, xmin=230.0)\n",
      "fit.discrete\n",
      "fit = powerlaw.Fit(data, xmin=230.0, discrete=True)\n",
      "fit.discrete "
     ],
     "language": "python",
     "metadata": {},
     "outputs": [
      {
       "output_type": "stream",
       "stream": "stdout",
       "text": [
        "Calculating best minimal value for power law fit\n"
       ]
      },
      {
       "output_type": "pyout",
       "prompt_number": 8,
       "text": [
        "True"
       ]
      }
     ],
     "prompt_number": 8
    },
    {
     "cell_type": "code",
     "collapsed": false,
     "input": [
      "data = blackouts\n",
      "fit = powerlaw.Fit(data)\n",
      "####\n",
      "fit = powerlaw.Fit(data, xmax=10000.0)\n",
      "fit.xmax\n",
      "fit.fixed_xmax"
     ],
     "language": "python",
     "metadata": {},
     "outputs": [
      {
       "output_type": "stream",
       "stream": "stdout",
       "text": [
        "Calculating best minimal value for power law fit\n",
        "Calculating best minimal value for power law fit"
       ]
      },
      {
       "output_type": "stream",
       "stream": "stdout",
       "text": [
        "\n"
       ]
      },
      {
       "output_type": "pyout",
       "prompt_number": 9,
       "text": [
        "True"
       ]
      }
     ],
     "prompt_number": 9
    },
    {
     "cell_type": "code",
     "collapsed": false,
     "input": [
      "data = words\n",
      "fit = powerlaw.Fit(data, discrete=True)\n",
      "####\n",
      "fig1 = fit.plot_ccdf(linewidth=3, label='Empirical Data')\n",
      "fit.power_law.plot_ccdf(ax=fig1, color='r', linestyle='--', label='Power law fit')\n",
      "fit.lognormal.plot_ccdf(ax=fig1, color='g', linestyle='--', label='Lognormal fit')\n",
      "####\n",
      "fig1.set_ylabel(r\"$p(X\\geq x)$\")\n",
      "fig1.set_xlabel(r\"Word Frequency\")\n",
      "handles, labels = fig1.get_legend_handles_labels()\n",
      "fig1.legend(handles[::-1], labels[::-1], loc=3)\n",
      "savefig('Fig1.eps')"
     ],
     "language": "python",
     "metadata": {},
     "outputs": [
      {
       "output_type": "stream",
       "stream": "stdout",
       "text": [
        "Calculating best minimal value for power law fit\n"
       ]
      },
      {
       "output_type": "display_data",
       "png": "[encoded data removed]"
      }
     ],
     "prompt_number": 10
    },
    {
     "cell_type": "code",
     "collapsed": false,
     "input": [
      "data = words\n",
      "fit = powerlaw.Fit(data, discrete=True)\n",
      "####\n",
      "fig2 = fit.plot_pdf(linear_bins=True, color='r')\n",
      "fit.plot_pdf(ax=fig2, color='b')\n",
      "####\n",
      "fig2.set_ylabel(r\"$p(X)$\")\n",
      "fig2.set_xlabel(r\"Word Frequency\")\n",
      "savefig('Fig2.eps')"
     ],
     "language": "python",
     "metadata": {},
     "outputs": [
      {
       "output_type": "stream",
       "stream": "stdout",
       "text": [
        "Calculating best minimal value for power law fit\n"
       ]
      },
      {
       "output_type": "display_data",
       "png": "[encoded data removed]"
      }
     ],
     "prompt_number": 11
    },
    {
     "cell_type": "code",
     "collapsed": false,
     "input": [
      "data = blackouts\n",
      "fit = powerlaw.Fit(data)\n",
      "###\n",
      "x, y = fit.cdf()\n",
      "bin_edges, probability = fit.pdf()\n",
      "y = fit.lognormal.cdf(data=[300,350])\n",
      "y = fit.lognormal.pdf()"
     ],
     "language": "python",
     "metadata": {},
     "outputs": [
      {
       "output_type": "stream",
       "stream": "stdout",
       "text": [
        "Calculating best minimal value for power law fit\n"
       ]
      }
     ],
     "prompt_number": 12
    },
    {
     "cell_type": "code",
     "collapsed": false,
     "input": [
      "data = blackouts\n",
      "####\n",
      "results = powerlaw.Fit(data, discrete=True, estimate_discrete=True)\n",
      "results.power_law.alpha\n",
      "results = powerlaw.Fit(data, discrete=True, estimate_discrete=False)\n",
      "results.power_law.alpha"
     ],
     "language": "python",
     "metadata": {},
     "outputs": [
      {
       "output_type": "stream",
       "stream": "stdout",
       "text": [
        "Calculating best minimal value for power law fit\n",
        "Calculating best minimal value for power law fit"
       ]
      },
      {
       "output_type": "stream",
       "stream": "stdout",
       "text": [
        "\n"
       ]
      },
      {
       "output_type": "pyout",
       "prompt_number": 13,
       "text": [
        "2.2691417084814285"
       ]
      }
     ],
     "prompt_number": 13
    },
    {
     "cell_type": "code",
     "collapsed": false,
     "input": [
      "data = blackouts\n",
      "####\n",
      "results = powerlaw.Fit(data, discrete=True, xmin=230.0, xmax=9000, discrete_approximation='xmax')\n",
      "results.lognormal.mu\n",
      "results = powerlaw.Fit(data, discrete_approximation=100000, xmin=230.0, discrete=True)\n",
      "results.lognormal.mu\n",
      "results = powerlaw.Fit(data, discrete_approximation='round', xmin=230.0, discrete=True)\n",
      "results.lognormal.mu"
     ],
     "language": "python",
     "metadata": {},
     "outputs": [
      {
       "output_type": "pyout",
       "prompt_number": 14,
       "text": [
        "0.39905257607693184"
       ]
      }
     ],
     "prompt_number": 14
    },
    {
     "cell_type": "code",
     "collapsed": false,
     "input": [
      "data = blackouts\n",
      "####\n",
      "fit = powerlaw.Fit(data)\n",
      "fit.power_law.alpha, fit.power_law.sigma, fit.xmin\n",
      "\n",
      "fit = powerlaw.Fit(data, sigma_threshold=.1)\n",
      "fit.power_law.alpha, fit.power_law.sigma, fit.xmin\n",
      "\n",
      "parameter_range = {'alpha': [2.3, None], 'sigma': [None, .2]}\n",
      "fit = powerlaw.Fit(data, parameter_range=parameter_range)\n",
      "fit.power_law.alpha, fit.power_law.sigma, fit.xmin\n",
      "\n",
      "parameter_range = lambda(self): self.sigma/self.alpha < .05\n",
      "fit = powerlaw.Fit(data, parameter_range=parameter_range)\n",
      "fit.power_law.alpha, fit.power_law.sigma, fit.xmin"
     ],
     "language": "python",
     "metadata": {},
     "outputs": [
      {
       "output_type": "stream",
       "stream": "stdout",
       "text": [
        "Calculating best minimal value for power law fit\n",
        "Calculating best minimal value for power law fit"
       ]
      },
      {
       "output_type": "stream",
       "stream": "stdout",
       "text": [
        "\n",
        "Calculating best minimal value for power law fit"
       ]
      },
      {
       "output_type": "stream",
       "stream": "stdout",
       "text": [
        "\n",
        "Calculating best minimal value for power law fit"
       ]
      },
      {
       "output_type": "stream",
       "stream": "stdout",
       "text": [
        "\n"
       ]
      },
      {
       "output_type": "pyout",
       "prompt_number": 15,
       "text": [
        "(1.8833765811180314, 0.094168259953067143, 124.0)"
       ]
      }
     ],
     "prompt_number": 15
    },
    {
     "cell_type": "code",
     "collapsed": false,
     "input": [
      "data = blackouts\n",
      "####\n",
      "fit = powerlaw.Fit(data, sigma_threshold=.001)\n",
      "fit.power_law.alpha, fit.power_law.sigma, fit.xmin, fit.noise_flag\n",
      "\n",
      "fit.lognormal.mu, fit.lognormal.sigma\n",
      "range_dict = {'mu': [10.5, None]}\n",
      "fit.lognormal.parameter_range(range_dict)\n",
      "fit.lognormal.mu, fit.lognormal.sigma, fit.lognormal.noise_flag\n",
      "initial_parameters = (12, .7)\n",
      "fit.lognormal.parameter_range(range_dict, initial_parameters)\n",
      "fit.lognormal.mu, fit.lognormal.sigma, fit.lognormal.noise_flag"
     ],
     "language": "python",
     "metadata": {},
     "outputs": [
      {
       "output_type": "stream",
       "stream": "stdout",
       "text": [
        "Calculating best minimal value for power law fit\n",
        "No valid fits found."
       ]
      },
      {
       "output_type": "stream",
       "stream": "stdout",
       "text": [
        "\n",
        "No valid fits found."
       ]
      },
      {
       "output_type": "stream",
       "stream": "stdout",
       "text": [
        "\n"
       ]
      },
      {
       "output_type": "pyout",
       "prompt_number": 16,
       "text": [
        "(10.500000000422041, 5.1423189016918585, False)"
       ]
      }
     ],
     "prompt_number": 16
    },
    {
     "cell_type": "code",
     "collapsed": false,
     "input": [
      "data = blackouts\n",
      "fit = powerlaw.Fit(data, sigma_threshold=.1)\n",
      "print fit.xmin, fit.D, fit.alpha\n",
      "fit = powerlaw.Fit(data)\n",
      "print fit.xmin, fit.D, fit.alpha\n",
      "####\n",
      "plot(fit.xmins, fit.Ds, label=r'$D$')\n",
      "plot(fit.xmins, fit.sigmas, label=r'$\\sigma$', linestyle='--')\n",
      "plot(fit.xmins, fit.sigmas/fit.alphas, label=r'$\\sigma /\\alpha$', linestyle='--')\n",
      "####\n",
      "ylim(0, .4)\n",
      "legend(loc=4)\n",
      "xlabel(r'$x_{min}$')\n",
      "ylabel(r'$D,\\sigma,\\alpha$')\n",
      "savefig('Fig3.eps')"
     ],
     "language": "python",
     "metadata": {},
     "outputs": [
      {
       "output_type": "stream",
       "stream": "stdout",
       "text": [
        "Calculating best minimal value for power law fit\n",
        "50.0"
       ]
      },
      {
       "output_type": "stream",
       "stream": "stdout",
       "text": [
        " 0.0998297854528 1.78313986533\n",
        "Calculating best minimal value for power law fit\n",
        "230.0"
       ]
      },
      {
       "output_type": "stream",
       "stream": "stdout",
       "text": [
        " 0.0606737962944 2.27263721983\n"
       ]
      },
      {
       "output_type": "display_data",
       "png": "[encoded data removed]"
      }
     ],
     "prompt_number": 17
    },
    {
     "cell_type": "code",
     "collapsed": false,
     "input": [
      "#from sicpy.optimize import fmin_ncg\n",
      "#results = powerlaw.Fit(data, fit_optimizer=fmin_ncg)\n",
      "#results.power_law.alpha"
     ],
     "language": "python",
     "metadata": {},
     "outputs": [],
     "prompt_number": 18
    }
   ],
   "metadata": {}
  }
 ]
}